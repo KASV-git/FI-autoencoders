{
 "cells": [
  {
   "cell_type": "code",
   "execution_count": null,
   "metadata": {
    "vscode": {
     "languageId": "plaintext"
    }
   },
   "outputs": [],
   "source": [
    "import numpy as np\n",
    "import pandas as pd\n",
    "import os \n",
    "\n",
    "start_date = '2010-01-04' # included \n",
    "end_date = '2022-12-30' # included\n",
    "\n",
    "path = os.getcwd()  \n",
    "print(f\"The current absolute file path is: {path}\")\n",
    "\n",
    "data_path = os.path.join(os.path.dirname(path), 'Data') \n",
    "\n",
    "testdata_folder_path = data_path + \"/SwapData/TestData\"\n",
    "bloombergdata_folder_path = data_path + \"/SwapData/BloombergData\""
   ]
  },
  {
   "cell_type": "code",
   "execution_count": null,
   "metadata": {
    "vscode": {
     "languageId": "plaintext"
    }
   },
   "outputs": [],
   "source": [
    "# Go through the folder TestData and then go through each country folder and load all included excel-files. \n",
    "# Important that no files are opened when running the code\n",
    "\n",
    "# Function to substract number part of file name so sort is: ad1year, ad2year, ad3year ...\n",
    "def sort_filenames(filename):\n",
    "    number_part = filename.split('year')[0][2:]\n",
    "    return int(number_part)\n",
    "\n",
    "def get_files(folder_path):\n",
    "\n",
    "    df_list = []  \n",
    "    list_curr = []\n",
    "\n",
    "    for dirpath, dirnames, filenames in os.walk(folder_path): # type: ignore\n",
    "    \n",
    "        # Sort directories (curr) alphabetically \n",
    "        dirnames.sort()\n",
    "\n",
    "\n",
    "        # On mac there is hidden files \".DS_Store\" when using os.walk - We exclude them - probably not necesarry on PC? \n",
    "        # Command + shift + punktum -> show hidden files in finder! \n",
    "        non_hidden_files = [filename for filename in filenames if not filename.startswith('.')]\n",
    "        non_hidden_files.sort(key=sort_filenames)\n",
    "\n",
    "        for file_name in non_hidden_files:\n",
    "     \n",
    "            file_path = os.path.join(dirpath, file_name)       \n",
    "            data = pd.read_excel(file_path)  \n",
    "            \n",
    "            curr = file_name[:2]\n",
    "            mat = file_name[2:-9]\n",
    "\n",
    "            list_curr.append(curr)\n",
    "\n",
    "            processed_df = (\n",
    "                pd.DataFrame(data)\n",
    "                .iloc[6:]                                            # Remove first rows\n",
    "                .rename(columns={data.columns[0]: 'Date',\n",
    "                                 data.columns[1]: mat}))           # Rename Date)\n",
    "\n",
    "            processed_df['Date'] = pd.to_datetime(processed_df['Date'])\n",
    "            processed_df['Currency'] = curr\n",
    "\n",
    "            processed_df = processed_df[[\"Date\", \"Currency\", mat]].reset_index(drop = True)\n",
    "\n",
    "            df_list.append(processed_df)\n",
    "\n",
    "    return df_list, list_curr"
   ]
  },
  {
   "cell_type": "code",
   "execution_count": null,
   "metadata": {
    "vscode": {
     "languageId": "plaintext"
    }
   },
   "outputs": [],
   "source": [
    "def seperate_currency(data, currency):\n",
    "    \n",
    "    filtered_dataframes = []\n",
    "    for df in data:\n",
    "     filtered_df = df.query('Currency == @currency ')\n",
    "     if not filtered_df.empty:\n",
    "        filtered_dataframes.append(filtered_df)\n",
    "    merged_df = filtered_dataframes[0]\n",
    "    for i in range(1, len(filtered_dataframes)):\n",
    "        merged_df = pd.merge(merged_df, filtered_dataframes[i], on=['Date', 'Currency'], how='outer')\n",
    "\n",
    "    return merged_df \n",
    "\n",
    "def concat_currencies(data, currencies):\n",
    "    dfs = [seperate_currency(data, currencies[i]) for i in range(len(currencies))]\n",
    "    df  = pd.concat(dfs, ignore_index=True)\n",
    "    return df.dropna().reset_index(drop=True)  \n",
    "\n",
    "def find_missing(group):\n",
    "    interpol_dates = pd.date_range(start=group[\"Date\"].min(), end=group[\"Date\"].max(), freq=\"BM\")\n",
    "    missing_dates = set(interpol_dates) - set(group[\"Date\"])\n",
    "    return \", \".join(d.strftime(\"%Y-%m-%d\") for d in missing_dates) if missing_dates else \"\""
   ]
  },
  {
   "cell_type": "code",
   "execution_count": null,
   "metadata": {
    "vscode": {
     "languageId": "plaintext"
    }
   },
   "outputs": [],
   "source": [
    "### Henter (training data)\n",
    "df_bb, list_bb_curr = get_files(bloombergdata_folder_path)\n",
    "bbdata = concat_currencies(df_bb, pd.Series(list_bb_curr).unique().tolist())\n",
    "bbdata_filtered = bbdata[(bbdata[\"Date\"] >= pd.to_datetime(start_date)) & \n",
    "                         (bbdata[\"Date\"] <= pd.to_datetime(end_date))].drop(columns = \"7\")\n",
    "#bbdata_filtered.to_csv(data_path + \"/BloombergData_Swap_Features.csv\", index = False)\n",
    "\n",
    "### Henter test data\n",
    "df_test, list_test_curr = get_files(testdata_folder_path)\n",
    "\n",
    "testdata    = concat_currencies(df_test, pd.Series(list_test_curr).unique().tolist())\n",
    "testdata_filtered_old_data = testdata[(testdata[\"Date\"] < pd.to_datetime(start_date))]\n",
    "testdata_filtered_new_data = testdata[(testdata[\"Date\"] > pd.to_datetime(end_date))]\n",
    "\n",
    "# testdata_filtered_old_data.to_csv(data_path + \"/TestData_Swap_Features_pre.csv\", index = False)\n",
    "# testdata_filtered_new_data.to_csv(data_path + \"/TestData_Swap_Features_post.csv\", index = False)\n",
    "\n",
    "# testdata_filtered_old_data.groupby(\"Currency\").apply(find_missing).reset_index()"
   ]
  }
 ],
 "metadata": {
  "language_info": {
   "name": "python"
  }
 },
 "nbformat": 4,
 "nbformat_minor": 2
}
